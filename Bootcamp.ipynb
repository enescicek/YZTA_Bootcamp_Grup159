{
  "nbformat": 4,
  "nbformat_minor": 0,
  "metadata": {
    "colab": {
      "provenance": []
    },
    "kernelspec": {
      "name": "python3",
      "display_name": "Python 3"
    },
    "language_info": {
      "name": "python"
    }
  },
  "cells": [
    {
      "cell_type": "code",
      "execution_count": null,
      "metadata": {
        "id": "BcymDjv--Xo0"
      },
      "outputs": [],
      "source": [
        "### Fitness Koçu Yapay Zeka Uygulaması (LLM destekli)\n",
        "\n",
        "# GEREKSİNİMLER\n",
        "# pip install fastapi openai uvicorn\n",
        "\n",
        "from fastapi import FastAPI, Request\n",
        "from fastapi.middleware.cors import CORSMiddleware\n",
        "import openai\n",
        "import os\n",
        "\n",
        "# OpenAI API anahtarını buraya gir (veya .env dosyasından çekebilirsin)\n",
        "openai.api_key = \"YOUR_API_KEY\"\n",
        "\n",
        "# FastAPI uygulaması oluştur\n",
        "app = FastAPI()\n",
        "\n",
        "# CORS ayarları (Her yerden istek almasına izin verir)\n",
        "app.add_middleware(\n",
        "    CORSMiddleware,\n",
        "    allow_origins=[\"*\"],\n",
        "    allow_credentials=True,\n",
        "    allow_methods=[\"*\"],\n",
        "    allow_headers=[\"*\"],\n",
        ")\n",
        "\n",
        "# Kullanıcıdan gelen sohbet isteklerini ele al\n",
        "@app.post(\"/chat\")\n",
        "async def chat(request: Request):\n",
        "    data = await request.json()\n",
        "    user_message = data.get(\"message\", \"\")\n",
        "    user_info = data.get(\"user\", {})  # yaş, boy, kilo, hedef gibi bilgiler\n",
        "\n",
        "    system_prompt = f\"\"\"\n",
        "    Sen kişisel bir fitness koçusun.\n",
        "    Kullanıcının bilgileri:\n",
        "    - Yaş: {user_info.get('age', '?')}\n",
        "    - Boy: {user_info.get('height', '?')} cm\n",
        "    - Kilo: {user_info.get('weight', '?')} kg\n",
        "    - Hedef: {user_info.get('goal', 'belirtilmedi')}\n",
        "\n",
        "    Günlük egzersiz planı öner, basit ve evde yapılabilir olsun. Kullanıcıyı motive et.\n",
        "    \"\"\"\n",
        "\n",
        "    response = openai.ChatCompletion.create(\n",
        "        model=\"gpt-4o\",\n",
        "        messages=[\n",
        "            {\"role\": \"system\", \"content\": system_prompt},\n",
        "            {\"role\": \"user\", \"content\": user_message}\n",
        "        ]\n",
        "    )\n",
        "\n",
        "    reply = response.choices[0].message.content\n",
        "    return {\"response\": reply}\n",
        "\n",
        "# Uygulamayı başlatmak için:\n",
        "# uvicorn fitness_ai_coach:app --reload"
      ]
    }
  ]
}